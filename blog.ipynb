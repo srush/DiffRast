{
 "cells": [
  {
   "cell_type": "code",
   "execution_count": 1,
   "metadata": {
    "tags": [
     "remove_cell"
    ]
   },
   "outputs": [
    {
     "name": "stderr",
     "output_type": "stream",
     "text": [
      "An NVIDIA GPU may be present on this machine, but a CUDA-enabled jaxlib is not installed. Falling back to cpu.\n"
     ]
    }
   ],
   "source": [
    "import jax\n",
    "import jax.numpy as np\n",
    "import os\n",
    "import copy\n",
    "\n",
    "os.environ[\"CHALK_JAX\"] = \"1\"\n",
    "from chalk import *\n",
    "from colour import Color\n",
    "from IPython.display import HTML\n",
    "import jax\n",
    "import optax\n",
    "import chalk.transform\n",
    "import numpy as onp\n",
    "import glob\n",
    "import matplotlib.pyplot as plt\n",
    "from functools import partial\n",
    "from PIL import Image\n",
    "import random\n",
    "\n",
    "\n",
    "eps = 1e-3"
   ]
  },
  {
   "cell_type": "markdown",
   "metadata": {},
   "source": [
    "# A Tour of Differentiable Rasterization\n",
    "\n",
    "By [Sasha Rush](https://x.com/srush_nlp) - [Notebook](https://github.com/srush/diffRast/)\n",
    "\n",
    "Built with [Chalk](https://github.com/chalk-diagrams/) developed with [Dan Oneață](https://doneata.bitbucket.io/) \n",
    "\n",
    "Based on "
   ]
  },
  {
   "cell_type": "markdown",
   "metadata": {},
   "source": [
    "* [Differentiable Vector Graphics Rasterization for Editing and Learning](https://cseweb.ucsd.edu/~tzli/diffvg/)\n",
    "* [Efficient GPU Path Rendering Using Scanline Rasterization](http://kunzhou.net/zjugaps/pathrendering/GPUpathrendering.pdf)\n",
    "* [Monoids: Theme and Variations](https://core.ac.uk/download/pdf/76383233.pdf)\n",
    "* [JAX: High-Performance Array Computing](https://jax.readthedocs.io/en/latest/)"
   ]
  },
  {
   "cell_type": "markdown",
   "metadata": {},
   "source": [
    "Given a program that produces a vector representation of an image (think SVG), *rasterization* turns it into\n",
    "a pixel representation (think PNG). If we have a target image, we can see how close we got."
   ]
  },
  {
   "cell_type": "markdown",
   "metadata": {},
   "source": [
    "$$\\begin{align*}\n",
    "  \\text{vector} &= \\text{program}(x) \\\\\n",
    "  \\text{image} &= \\text{rasterizer}(\\text{vector}) \\\\\n",
    "  {\\cal L}(\\text{image}, \\text{target}) &= \\| \\text{image} - \\text{target} \\| \\\\\n",
    "\\end{align*}$$"
   ]
  },
  {
   "cell_type": "markdown",
   "metadata": {},
   "source": [
    "Unfortunately this process is not inherently differentiable. Moreover, it doesn't easily run in modern\n",
    "deep learning frameworks like Jax or PyTorch. The goal of this post is to walk through this calculation."
   ]
  },
  {
   "cell_type": "markdown",
   "metadata": {},
   "source": [
    "$$\\text{Goal:}   \\frac{d {\\cal L}}{dx} = \\frac{d {\\cal L}}{d\\ \\text{image}} \\frac{d\\ {\\text{image}}}{d\\ \\text{vector}} \\frac{d\\ \\text{vector}}{dx}$$\n"
   ]
  },
  {
   "cell_type": "markdown",
   "metadata": {},
   "source": [
    "To make this all more tangible, say we have a target image and a program\n",
    "that can draw ellipses based on their locations, size, and rotation. Differentiable rasterization would let us\n",
    "use gradient descent to adjust the parameters $x$ to match the image."
   ]
  },
  {
   "cell_type": "code",
   "execution_count": 2,
   "metadata": {
    "lines_to_next_cell": 2,
    "tags": [
     "remove_in"
    ]
   },
   "outputs": [
    {
     "data": {
      "text/html": [
       "\n",
       "\n",
       "<script src=\"https://unpkg.com/freezeframe/dist/freezeframe.min.js\"></script>\n",
       "\n",
       "<div><img src=\"smiley3.webp\" width=\"40%\"><div style=\"width:40%; float:right\"><img class=\"freezeframe\" id=\"smiley\" src=\"smiley1.gif\" width=\"40%\"></div></div>\n",
       "<script>\n",
       "new Freezeframe({selector: '#smiley', overlay:true});\n",
       "</script>\n",
       "\n"
      ],
      "text/plain": [
       "<IPython.core.display.HTML object>"
      ]
     },
     "execution_count": 2,
     "metadata": {},
     "output_type": "execute_result"
    }
   ],
   "source": [
    "HTML(\n",
    "    \"\"\"\n",
    "\n",
    "<script src=\"https://unpkg.com/freezeframe/dist/freezeframe.min.js\"></script>\n",
    "\n",
    "<div><img src=\"smiley3.webp\" width=\"40%\"><div style=\"width:40%; float:right\"><img class=\"freezeframe\" id=\"smiley\" src=\"smiley1.gif\" width=\"40%\"></div></div>\n",
    "<script>\n",
    "new Freezeframe({selector: '#smiley', overlay:true});\n",
    "</script>\n",
    "\n",
    "\"\"\"\n",
    ")"
   ]
  },
  {
   "cell_type": "markdown",
   "metadata": {},
   "source": [
    "This blog is not really about computer graphic (I don't know much about computer graphics). #\n",
    "The goal is to explore *differentiable programming* in realistic settings.\n",
    "If autodiff + vectorization is the future, then it is important to be able to write hard programs\n",
    "in a differentiable style (beyond just another Transformer).\n",
    "\n",
    "The blog is in 5 parts. It assumes no graphics knowledge, but does use a lot of Jax/NumPy tricks. The target audience is someone with a lot of ML experience who wants to branch out into some more complex uses of derivatives. \n",
    "\n",
    "* [Section 1: Transforms, Arcs, Paths](#section-1-transforms-arcs-paths)\n",
    "* [Section 2: Jax x Graphics](#section-2-jax-x-graphics)\n",
    "* [Section 3: Tracing](#section-3-tracing)\n",
    "* [Section 4: Vector -> Image](#section-4-vector---image)\n",
    "* [Section 5: Differentiable Rasterization](#section-5-differentiable-rasterization)\n"
   ]
  },
  {
   "cell_type": "code",
   "execution_count": 3,
   "metadata": {
    "tags": [
     "remove_cell"
    ]
   },
   "outputs": [],
   "source": [
    "import imageio.v3 as imageio\n",
    "import base64\n",
    "\n",
    "# import PIL\n",
    "ff_id = 0\n",
    "\n",
    "\n",
    "def animate_out(images, steps=36, rate=20, **kwargs):\n",
    "    global ff_id\n",
    "    # with imageio.get_writer(\"/tmp/out.gif\", loop=0, fps=rate, **kwargs) as writer:\n",
    "    writer = []\n",
    "    for im in images:\n",
    "        image = imageio.imread(im)\n",
    "        # image = PIL.Image.open(im)\n",
    "        writer.append(image)\n",
    "    # writer[0].save('/tmp/out.gif', save_all=True, append_images=writer,\n",
    "    #               loop=0, duration=200, transparency=0, disposal=0)\n",
    "    ff_id += 1\n",
    "\n",
    "    imageio.imwrite(f\"animations/out.{ff_id}.gif\", writer, loop=0, fps=rate, **kwargs)\n",
    "\n",
    "    # imageio.mimsave(\n",
    "    # base = base64.b64encode(open(\"/tmp/out.gif\", 'br').read()).decode('ascii')\n",
    "    return HTML(\n",
    "        f\"\"\"\n",
    "  <div style=\"text-align:center;\"><div style=\"width:70%; margin:auto;\"><img src=\"animations/out.{ff_id}.gif\" id='ff{ff_id}'></div></div>\n",
    "<script>\n",
    "new Freezeframe({{\n",
    "  selector: '#ff{ff_id}'  \n",
    "}});\n",
    "</script>\n",
    "\n",
    "\n",
    "\n",
    "  \"\"\"\n",
    "    )\n",
    "\n",
    "\n",
    "grid = rectangle(4, 4).fill_color(\"white\").line_width(0) + (\n",
    "    make_path([(-2, 0), (2, 0)]) + make_path([(0, -2), (0, 2)])\n",
    ").line_color(\"grey\").line_width(1)\n",
    "hgrid = rectangle(10, 10).fill_color(\"white\").line_width(0).align_tl()\n",
    "bgrid = rectangle(100, 100).fill_color(\"white\").line_width(0).align_tl()\n",
    "\n",
    "\n",
    "def animate(fn1, steps=36, rate=20, grid=grid, lw=True, **kwargs):\n",
    "    os.system(\"rm /tmp/render*.png /tmp/out.gif 2> /dev/null\")\n",
    "    images = []\n",
    "\n",
    "    def fn(t):\n",
    "        im = fn1(t / steps)\n",
    "        if isinstance(im, tuple):\n",
    "            im, extra = im\n",
    "        else:\n",
    "            extra = empty()\n",
    "\n",
    "        return hcat(\n",
    "            [grid + (im.with_envelope(empty()).line_width(2 if lw else None)), extra],\n",
    "            0.4,\n",
    "        ).layout(500)\n",
    "\n",
    "    if chalk.transform.JAX_MODE:\n",
    "        fn = jax.jit(fn)\n",
    "\n",
    "    for t in range(1, steps):\n",
    "        out, h, w = fn(t)\n",
    "        p = f\"/tmp/render.{t:03d}.png\"\n",
    "        chalk.backend.cairo.prims_to_file(out, p, h, w)\n",
    "        images.append(p)\n",
    "    return animate_out(images)\n",
    "\n",
    "\n",
    "@jax.vmap\n",
    "def inner(j, i, a):\n",
    "    op = np.minimum(1.0, np.abs(a))\n",
    "    return (\n",
    "        rectangle(0.75, 0.75, 0.1)\n",
    "        .center_xy()\n",
    "        .translate(i, j)\n",
    "        .fill_color(\n",
    "            op * np.where(a > 0, to_color(\"blue\"), to_color(\"red\")) + (1 - op) * 1\n",
    "        )\n",
    "        .line_width(0)\n",
    "    )\n",
    "\n",
    "\n",
    "@jax.jit\n",
    "def show_affine(aff):\n",
    "    out = inner(np.arange(9) // 3, np.arange(9) % 3, aff.reshape(-1))\n",
    "    return out.center_xy().scale(\n",
    "        0.5\n",
    "    )\n",
    "\n",
    "\n",
    "@jax.jit\n",
    "def show_color(color):\n",
    "    out = inner(np.arange(3), np.zeros(3), color.reshape(-1))\n",
    "    return out.center_xy().scale(\n",
    "        0.5\n",
    "    )\n",
    "\n",
    "\n",
    "\n",
    "\n",
    "\n",
    "def show_arc(a):\n",
    "    a = copy.deepcopy(a)\n",
    "    angles = a.segments.angles\n",
    "    angles = angles.at[0, 1].set(360)\n",
    "    a.segments.angles = angles\n",
    "    return a"
   ]
  },
  {
   "cell_type": "markdown",
   "metadata": {},
   "source": [
    "## Section 1: Transforms, Arcs, Paths"
   ]
  },
  {
   "cell_type": "markdown",
   "metadata": {},
   "source": [
    "This section is about vector graphics and linear algebra. \n",
    "We want to be able to represent a vector graphic as a function of parameters using matrices.\n",
    "\n",
    "$$\\begin{align*}\n",
    "  \\text{vector} &= \\text{program}(x) \\\\\n",
    "\\end{align*}\n",
    "$$\n",
    "\n",
    "To arrive here, we need to convince ourselves that this process is\n",
    "fully differentiable and expressible in NumPy. This will also\n",
    "allow us to introduce the basic primitives of vector graphics."
   ]
  },
  {
   "cell_type": "markdown",
   "metadata": {},
   "source": [
    "We start with a *transform*. This is an affine function of a 2D point.\n",
    "Given a point $(x, y)$, we produce a point $(x', y')$\n",
    "where $x' = a x + b y + c$ and $y' = d x + e y + f$.\n",
    "This will allow us to mathematically represent intuitive\n",
    "notions of scaling, rotation, and translation."
   ]
  },
  {
   "cell_type": "markdown",
   "metadata": {},
   "source": [
    "We can represent these affine functions as a 3x3 matrices.\n",
    "$$\\begin{align*}\n",
    "\\begin{bmatrix} x' \\\\ y' \\\\ 1 \\end{bmatrix} &= \\begin{bmatrix} a & b & c \\\\ d & e & f \\\\ 0 & 0 & 1 \\end{bmatrix} \\begin{bmatrix} x \\\\ y \\\\ 1 \\end{bmatrix} \\\\\n",
    "\\end{align*}$$\n",
    "The key trick being to represent 2D points in 3D with a fixed 1 in the last position. We can the apply transforms to points, lines, shapes, or other transforms etc.\n",
    "As these are standard matrix operations, they naturally have meaningful derivatives, which autodiff can provide for us.\n"
   ]
  },
  {
   "cell_type": "markdown",
   "metadata": {},
   "source": [
    "We start by applying them to a simple line."
   ]
  },
  {
   "cell_type": "code",
   "execution_count": 4,
   "metadata": {
    "lines_to_next_cell": 2
   },
   "outputs": [],
   "source": [
    "line = arc_seg(V2(1, 1), 1e-3).stroke()"
   ]
  },
  {
   "cell_type": "markdown",
   "metadata": {
    "lines_to_next_cell": 2
   },
   "source": [
    "Translations have an identity scaling and use the last column for the offet. We show the current transform matrix on the right side. "
   ]
  },
  {
   "cell_type": "code",
   "execution_count": 5,
   "metadata": {},
   "outputs": [
    {
     "data": {
      "text/html": [
       "\n",
       "  <div style=\"text-align:center;\"><div style=\"width:70%; margin:auto;\"><img src=\"animations/out.1.gif\" id='ff1'></div></div>\n",
       "<script>\n",
       "new Freezeframe({\n",
       "  selector: '#ff1'  \n",
       "});\n",
       "</script>\n",
       "\n",
       "\n",
       "\n",
       "  "
      ],
      "text/plain": [
       "<IPython.core.display.HTML object>"
      ]
     },
     "execution_count": 5,
     "metadata": {},
     "output_type": "execute_result"
    }
   ],
   "source": [
    "def translate(t: float):\n",
    "    \"t is a float between 0 and 1\"\n",
    "    affine = tx.translation(V2(0, t))\n",
    "    return line.apply_transform(affine), show_affine(affine)\n",
    "\n",
    "\n",
    "animate(translate)"
   ]
  },
  {
   "cell_type": "markdown",
   "metadata": {},
   "source": [
    "Scaling transforms use the top left diagonal of the matrix. \n"
   ]
  },
  {
   "cell_type": "code",
   "execution_count": 6,
   "metadata": {},
   "outputs": [
    {
     "data": {
      "text/html": [
       "\n",
       "  <div style=\"text-align:center;\"><div style=\"width:70%; margin:auto;\"><img src=\"animations/out.2.gif\" id='ff2'></div></div>\n",
       "<script>\n",
       "new Freezeframe({\n",
       "  selector: '#ff2'  \n",
       "});\n",
       "</script>\n",
       "\n",
       "\n",
       "\n",
       "  "
      ],
      "text/plain": [
       "<IPython.core.display.HTML object>"
      ]
     },
     "execution_count": 6,
     "metadata": {},
     "output_type": "execute_result"
    }
   ],
   "source": [
    "def scale(t):\n",
    "    affine = tx.scale(t)\n",
    "    return line.apply_transform(affine), show_affine(affine)\n",
    "\n",
    "\n",
    "animate(scale)"
   ]
  },
  {
   "cell_type": "markdown",
   "metadata": {},
   "source": [
    "Rotation transforms uses the off-diagonal.\n"
   ]
  },
  {
   "cell_type": "code",
   "execution_count": 7,
   "metadata": {},
   "outputs": [
    {
     "data": {
      "text/html": [
       "\n",
       "  <div style=\"text-align:center;\"><div style=\"width:70%; margin:auto;\"><img src=\"animations/out.3.gif\" id='ff3'></div></div>\n",
       "<script>\n",
       "new Freezeframe({\n",
       "  selector: '#ff3'  \n",
       "});\n",
       "</script>\n",
       "\n",
       "\n",
       "\n",
       "  "
      ],
      "text/plain": [
       "<IPython.core.display.HTML object>"
      ]
     },
     "execution_count": 7,
     "metadata": {},
     "output_type": "execute_result"
    }
   ],
   "source": [
    "def rotate(t):\n",
    "    affine = tx.rotation(t * 2 * np.pi)\n",
    "    return line.apply_transform(affine), show_affine(affine)\n",
    "\n",
    "\n",
    "animate(rotate)"
   ]
  },
  {
   "cell_type": "markdown",
   "metadata": {},
   "source": [
    "In our little library we use `+` to represent composition of vector diagrams.\n",
    "Here two lines are combined in a single image. The first\n",
    "is rotated and the second is rotated in the opposite direction\n",
    "using the matrix inverse of the transform matrix.\n"
   ]
  },
  {
   "cell_type": "code",
   "execution_count": 8,
   "metadata": {
    "lines_to_next_cell": 2
   },
   "outputs": [
    {
     "data": {
      "text/html": [
       "\n",
       "  <div style=\"text-align:center;\"><div style=\"width:70%; margin:auto;\"><img src=\"animations/out.4.gif\" id='ff4'></div></div>\n",
       "<script>\n",
       "new Freezeframe({\n",
       "  selector: '#ff4'  \n",
       "});\n",
       "</script>\n",
       "\n",
       "\n",
       "\n",
       "  "
      ],
      "text/plain": [
       "<IPython.core.display.HTML object>"
      ]
     },
     "execution_count": 8,
     "metadata": {},
     "output_type": "execute_result"
    }
   ],
   "source": [
    "def cat(t):\n",
    "    affine = tx.rotation(t * 2 * np.pi)\n",
    "    affine2 = tx.inv(affine)\n",
    "    return line.apply_transform(affine) + line.apply_transform(affine2), show_affine(\n",
    "        affine\n",
    "    ) | show_affine(affine2)\n",
    "\n",
    "\n",
    "animate(cat)"
   ]
  },
  {
   "cell_type": "markdown",
   "metadata": {
    "lines_to_next_cell": 2
   },
   "source": [
    "Colors are also represented mathematically. We use simple RGB vectors.\n",
    "\n",
    "$$ \\text{color} = \\begin{bmatrix} r \\\\ g \\\\ b \\end{bmatrix}$$\n"
   ]
  },
  {
   "cell_type": "code",
   "execution_count": 9,
   "metadata": {},
   "outputs": [
    {
     "data": {
      "text/html": [
       "\n",
       "  <div style=\"text-align:center;\"><div style=\"width:70%; margin:auto;\"><img src=\"animations/out.5.gif\" id='ff5'></div></div>\n",
       "<script>\n",
       "new Freezeframe({\n",
       "  selector: '#ff5'  \n",
       "});\n",
       "</script>\n",
       "\n",
       "\n",
       "\n",
       "  "
      ],
      "text/plain": [
       "<IPython.core.display.HTML object>"
      ]
     },
     "execution_count": 9,
     "metadata": {},
     "output_type": "execute_result"
    }
   ],
   "source": [
    "def color_line(t):\n",
    "    # Helper function for standard colors. \n",
    "    red = to_color(\"red\")\n",
    "    blue = to_color(\"blue\")\n",
    "    color = t * red + (1 - t) * blue\n",
    "    return line.line_color(color), show_color(color)\n",
    "\n",
    "\n",
    "animate(color_line)"
   ]
  },
  {
   "cell_type": "markdown",
   "metadata": {
    "lines_to_next_cell": 2
   },
   "source": [
    "For simplicity, the only function we provide is an *arc*.\n",
    "Arcs are created by providing a vector offset and the bend height.\n",
    "Note that lines are just arcs with a bend near 0.\n"
   ]
  },
  {
   "cell_type": "code",
   "execution_count": 10,
   "metadata": {},
   "outputs": [
    {
     "data": {
      "text/html": [
       "\n",
       "  <div style=\"text-align:center;\"><div style=\"width:70%; margin:auto;\"><img src=\"animations/out.6.gif\" id='ff6'></div></div>\n",
       "<script>\n",
       "new Freezeframe({\n",
       "  selector: '#ff6'  \n",
       "});\n",
       "</script>\n",
       "\n",
       "\n",
       "\n",
       "  "
      ],
      "text/plain": [
       "<IPython.core.display.HTML object>"
      ]
     },
     "execution_count": 10,
     "metadata": {},
     "output_type": "execute_result"
    }
   ],
   "source": [
    "def arc(t):\n",
    "    # End position of the arc.\n",
    "    v = V2(1, 0)\n",
    "    # Create an arc from (0, 0) to v with bend t.\n",
    "    a_s = arc_seg(v, t)\n",
    "    # Stroke turns an arc into a vector diagram. \n",
    "    return a_s.stroke()\n",
    "\n",
    "\n",
    "animate(arc)"
   ]
  },
  {
   "cell_type": "markdown",
   "metadata": {},
   "source": [
    "Internally arcs are circles clipped between two angles. \n",
    "We can do this calculation with some (differentiable) \n",
    "[high-school trigonometry](https://observablehq.com/@sarah37/arcs-between-two-points).\n",
    "\n",
    "\n",
    "Here is what these arcs look like by composing the arc and the\n",
    "internal circle representation.\n"
   ]
  },
  {
   "cell_type": "code",
   "execution_count": 11,
   "metadata": {
    "lines_to_next_cell": 2
   },
   "outputs": [
    {
     "data": {
      "text/html": [
       "\n",
       "  <div style=\"text-align:center;\"><div style=\"width:70%; margin:auto;\"><img src=\"animations/out.7.gif\" id='ff7'></div></div>\n",
       "<script>\n",
       "new Freezeframe({\n",
       "  selector: '#ff7'  \n",
       "});\n",
       "</script>\n",
       "\n",
       "\n",
       "\n",
       "  "
      ],
      "text/plain": [
       "<IPython.core.display.HTML object>"
      ]
     },
     "execution_count": 11,
     "metadata": {},
     "output_type": "execute_result"
    }
   ],
   "source": [
    "def arc(t):\n",
    "    v = V2(1, 0)\n",
    "    a_s = arc_seg(v, t)\n",
    "    return a_s.stroke().line_width(2) + show_arc(a_s).stroke().line_width(0.1)\n",
    "\n",
    "\n",
    "animate(arc, lw=False)"
   ]
  },
  {
   "cell_type": "markdown",
   "metadata": {
    "lines_to_next_cell": 2
   },
   "source": [
    "We can *chain* arcs together before stroking them to vector diagrams.\n",
    "We agin use `+` operator for chaining before closing the path.  \n",
    "\n",
    "(Note that `+` is used both for chaining and composition. This is \n",
    "because both of [monoids](https://core.ac.uk/download/pdf/76383233.pdf)\n",
    "and so they share internal structure. This can be point of confusion though.)\n",
    "\n",
    "Filled paths made with chained arcs will be the core element we work with."
   ]
  },
  {
   "cell_type": "code",
   "execution_count": 12,
   "metadata": {},
   "outputs": [
    {
     "data": {
      "text/html": [
       "\n",
       "  <div style=\"text-align:center;\"><div style=\"width:70%; margin:auto;\"><img src=\"animations/out.8.gif\" id='ff8'></div></div>\n",
       "<script>\n",
       "new Freezeframe({\n",
       "  selector: '#ff8'  \n",
       "});\n",
       "</script>\n",
       "\n",
       "\n",
       "\n",
       "  "
      ],
      "text/plain": [
       "<IPython.core.display.HTML object>"
      ]
     },
     "execution_count": 12,
     "metadata": {},
     "output_type": "execute_result"
    }
   ],
   "source": [
    "def closed(t):\n",
    "    v = V2(1, 0)\n",
    "    return (arc_seg(v, t) + arc_seg(-v, -0.2)).close().stroke()\n",
    "\n",
    "\n",
    "animate(closed)"
   ]
  },
  {
   "cell_type": "markdown",
   "metadata": {},
   "source": [
    "We conclude with a circle function. \n",
    "\n",
    "1. Create a path by chaining two arcs together.\n",
    "2. Create a transform that centers the circle, scales it, and moves it.\n",
    "3. Apply the transform to the circle. "
   ]
  },
  {
   "cell_type": "code",
   "execution_count": 13,
   "metadata": {},
   "outputs": [
    {
     "data": {
      "text/html": [
       "\n",
       "  <div style=\"text-align:center;\"><div style=\"width:70%; margin:auto;\"><img src=\"animations/out.9.gif\" id='ff9'></div></div>\n",
       "<script>\n",
       "new Freezeframe({\n",
       "  selector: '#ff9'  \n",
       "});\n",
       "</script>\n",
       "\n",
       "\n",
       "\n",
       "  "
      ],
      "text/plain": [
       "<IPython.core.display.HTML object>"
      ]
     },
     "execution_count": 13,
     "metadata": {},
     "output_type": "execute_result"
    }
   ],
   "source": [
    "def circle_at(p, r):\n",
    "    \"Draw a circle at `p` with radius `r`\"\n",
    "    # Draw a circle with radius 1 centered at (0, 1)\n",
    "    circle = (arc_seg(V2(0, 2), 1) + arc_seg(V2(0, -2), 1)).close().stroke()\n",
    "    # Move the circle to p and scale to radius r\n",
    "    affine = tx.translation(p) @ tx.scale(r) @ tx.translation(V2(0, -1))\n",
    "    return circle.apply_transform(affine)\n",
    "\n",
    "\n",
    "def draw_circle(t):\n",
    "    return circle_at(t, t)\n",
    "\n",
    "\n",
    "animate(draw_circle)"
   ]
  },
  {
   "cell_type": "markdown",
   "metadata": {},
   "source": [
    "## Section 2: Jax x Graphics\n",
    "\n",
    "This section is about Jax, a library for differentiable programming.\n",
    "Jax is built on top of NumPy so it works directly with NumPy arrays\n",
    "you probably are used to. Basically python dataclass that is \n",
    "made up of NumPy arrays can be utilized withing the Jax framework.\n",
    "The key thing to note is that our vector diagrams are \n",
    "[Jax PyTrees](https://jax.readthedocs.io/en/latest/pytrees.html).\n",
    "\n",
    "The downside of Jax is that we will not be able to use a lot of standard python functions, and\n",
    "will have to write everything in a strict functional style without `if's`. This will make\n",
    "later things harder.\n",
    "\n",
    "But there are upsides. In this section we will discuss the use of \n",
    "*vmap*, which allows us to automatically vectorize functions, and *grad* \n",
    "which will allow us to compute derivatives are arbitrary functions.\n",
    "# \n",
    "Let's start with [vmap](https://jax.readthedocs.io/en/latest/_autosummary/jax.vmap.html).\n",
    "This function will allow us to easily create complex vector diagrams, \n",
    "by describing many different paths at once. For example\n",
    "here we are using `vmap` to create 10 circles."
   ]
  },
  {
   "cell_type": "markdown",
   "metadata": {},
   "source": [
    "(Note from here on out we use simpler \n",
    "methods like `scale_x` instead of manually \n",
    "creating affine matrices. Hopefully they are self-explanatory)\n"
   ]
  },
  {
   "cell_type": "code",
   "execution_count": 14,
   "metadata": {},
   "outputs": [
    {
     "data": {
      "text/html": [
       "\n",
       "  <div style=\"text-align:center;\"><div style=\"width:70%; margin:auto;\"><img src=\"animations/out.10.gif\" id='ff10'></div></div>\n",
       "<script>\n",
       "new Freezeframe({\n",
       "  selector: '#ff10'  \n",
       "});\n",
       "</script>\n",
       "\n",
       "\n",
       "\n",
       "  "
      ],
      "text/plain": [
       "<IPython.core.display.HTML object>"
      ]
     },
     "execution_count": 14,
     "metadata": {},
     "output_type": "execute_result"
    }
   ],
   "source": [
    "def draw(t):\n",
    "    @jax.vmap\n",
    "    def multi(i):\n",
    "        \"Draw a circle with radius using `i`.\"\n",
    "        return circle_at(P2(0, 0), (0.05 * i + t)).scale_x(1.2).fill_opacity(0)\n",
    "\n",
    "    # Create 9 circles with i from 1 to 9.\n",
    "    return multi(np.arange(1, 10))\n",
    "\n",
    "animate(draw)"
   ]
  },
  {
   "cell_type": "markdown",
   "metadata": {},
   "source": [
    "You might have noticed the code above for simple functions is kind of slow. \n",
    "Jax transforms take a little longer to startup, but they automatically \n",
    "let us scale to some very complex figures. Here we are creating 100 circles.\n"
   ]
  },
  {
   "cell_type": "code",
   "execution_count": 15,
   "metadata": {
    "lines_to_next_cell": 2
   },
   "outputs": [
    {
     "data": {
      "text/html": [
       "\n",
       "  <div style=\"text-align:center;\"><div style=\"width:70%; margin:auto;\"><img src=\"animations/out.11.gif\" id='ff11'></div></div>\n",
       "<script>\n",
       "new Freezeframe({\n",
       "  selector: '#ff11'  \n",
       "});\n",
       "</script>\n",
       "\n",
       "\n",
       "\n",
       "  "
      ],
      "text/plain": [
       "<IPython.core.display.HTML object>"
      ]
     },
     "execution_count": 15,
     "metadata": {},
     "output_type": "execute_result"
    }
   ],
   "source": [
    "def draw(t):\n",
    "    red = to_color(\"red\")\n",
    "    green = to_color(\"green\")\n",
    "\n",
    "    @jax.vmap\n",
    "    def multi(i):\n",
    "        i_s = i / 100\n",
    "        s = (0.05 * i) / 2\n",
    "        rot = tx.rotation(i * t + i)\n",
    "        return (\n",
    "            rectangle(s, s)\n",
    "            .fill_color(i_s * red + (1 - i_s) * green)\n",
    "            .line_width(0)\n",
    "            .apply_transform(rot)\n",
    "        )\n",
    "\n",
    "    return multi(np.arange(100, 1, -1))\n",
    "\n",
    "\n",
    "animate(draw, lw=False, steps=200, rate=5)"
   ]
  },
  {
   "cell_type": "markdown",
   "metadata": {},
   "source": [
    "We can use vmap on multiple arguments simulataneously \n",
    "or even entire trees of parameters. Here is one more fun\n",
    "example taking multiple arguments. "
   ]
  },
  {
   "cell_type": "code",
   "execution_count": 16,
   "metadata": {},
   "outputs": [
    {
     "data": {
      "text/html": [
       "\n",
       "  <div style=\"text-align:center;\"><div style=\"width:70%; margin:auto;\"><img src=\"animations/out.12.gif\" id='ff12'></div></div>\n",
       "<script>\n",
       "new Freezeframe({\n",
       "  selector: '#ff12'  \n",
       "});\n",
       "</script>\n",
       "\n",
       "\n",
       "\n",
       "  "
      ],
      "text/plain": [
       "<IPython.core.display.HTML object>"
      ]
     },
     "execution_count": 16,
     "metadata": {},
     "output_type": "execute_result"
    }
   ],
   "source": [
    "T = 100\n",
    "\n",
    "\n",
    "def multi(t):\n",
    "    r, g = to_color(\"red\"), to_color(\"green\")\n",
    "\n",
    "    @jax.vmap\n",
    "    def draw(x, y):\n",
    "        t2 = (x + y + t) % 1\n",
    "        t2 = np.maximum(t2, 1 - t2)\n",
    "        return (\n",
    "            circle_at(P2(x, y), t2 / 10 - 0.2)\n",
    "            .fill_color(t2 / 2 * r + 2 * (1 - t2) * g)\n",
    "            .translate(-0.5, -0.5)\n",
    "            .scale(2)\n",
    "            .line_width(0)\n",
    "        )\n",
    "\n",
    "    return draw((np.arange(T) // 10) / 10, (np.arange(T) % 10) / 10)\n",
    "\n",
    "\n",
    "animate(jax.jit(multi), steps=10, lw=False)"
   ]
  },
  {
   "cell_type": "markdown",
   "metadata": {},
   "source": [
    "The other core benefit of having Jax is to be able to differentiate functions.\n",
    "Since we are able to take derivatives of all our functions we can use gradient descent to\n",
    "optimize for arbitrary properties. \n",
    "\n",
    "We'll introduce a function `opt` that uses [Adam](https://optax.readthedocs.io/en/latest/api/optimizers.html#optax.adam) to\n",
    "optimize and draw an arbitrary function. Our optimization \n",
    "uses unconstrained optimization with  \n",
    "a starting point and a function `f`, and draws the\n",
    "intermediate vector diagrams.  \n",
    "\n",
    "$$\\arg\\min_{x} f(x)$$ \n",
    "\n",
    "There are more interesting optimizers we could apply here, \n",
    "but we'll keep it simple for now.  "
   ]
  },
  {
   "cell_type": "code",
   "execution_count": 17,
   "metadata": {
    "tags": [
     "remove_cell"
    ]
   },
   "outputs": [],
   "source": [
    "Xs = []\n",
    "\n",
    "\n",
    "def opt(x, fn, steps=100, verbose=False, save_every=1, rate=0.3, show=None):\n",
    "    global Xs\n",
    "    Xs = []\n",
    "    fn = jax.jit(jax.value_and_grad(fn, has_aux=True))\n",
    "    solver = optax.adam(learning_rate=rate)\n",
    "    opt_state = solver.init(x)\n",
    "    loss = []\n",
    "    os.system(\"rm /tmp/test*.png 2> /dev/null\")\n",
    "    for j in range(steps):\n",
    "        value, grad = fn(x)\n",
    "        score, out = value\n",
    "        loss.append(score)\n",
    "        updates, opt_state = solver.update(grad, opt_state, x)\n",
    "        x = optax.apply_updates(x, updates)\n",
    "        if j % save_every == 0:\n",
    "            if show is not None:\n",
    "                out, h, w = show(x)\n",
    "            else:\n",
    "                out, h, w = out\n",
    "            chalk.backend.cairo.prims_to_file(out, f\"/tmp/test.{j:03d}.png\", h, w)\n",
    "        if verbose:\n",
    "            print(\"Step:\", j, score)\n",
    "            Xs.append(x)\n",
    "    #plt.plot(loss)\n",
    "    images = sorted(glob.glob(\"/tmp/test.*.png\"))\n",
    "    return animate_out(images)"
   ]
  },
  {
   "cell_type": "code",
   "execution_count": 18,
   "metadata": {},
   "outputs": [
    {
     "data": {
      "text/html": [
       "\n",
       "  <div style=\"text-align:center;\"><div style=\"width:70%; margin:auto;\"><img src=\"animations/out.13.gif\" id='ff13'></div></div>\n",
       "<script>\n",
       "new Freezeframe({\n",
       "  selector: '#ff13'  \n",
       "});\n",
       "</script>\n",
       "\n",
       "\n",
       "\n",
       "  "
      ],
      "text/plain": [
       "<IPython.core.display.HTML object>"
      ]
     },
     "execution_count": 18,
     "metadata": {},
     "output_type": "execute_result"
    }
   ],
   "source": [
    "def L2(x):\n",
    "    return (x * x).sum(-1)\n",
    "\n",
    "\n",
    "def find_point(target, x):\n",
    "    return L2(target - x).sum(), (\n",
    "        grid\n",
    "        + circle_at(target, 0.1).fill_color(\"red\")\n",
    "        + circle_at(x, 0.1).fill_color(\"blue\")\n",
    "    ).layout(500)\n",
    "\n",
    "\n",
    "# Use partial to specify the target. Optimize over x.\n",
    "opt(P2(0, 0), partial(find_point, P2(0.5, 0.5)), steps=100, rate=0.1)"
   ]
  },
  {
   "cell_type": "markdown",
   "metadata": {},
   "source": [
    "The two aspects work well together.\n",
    "A [force-directed graph](https://en.wikipedia.org/wiki/Force-directed_graph_drawing)\n",
    "is a way to layout a graph in a visually pleasing way in 2D space. \n",
    "The approach for physical forces over the nodes and edges."
   ]
  },
  {
   "cell_type": "markdown",
   "metadata": {},
   "source": [
    "In this function we use three forces. A spring along edges, repulsion between\n",
    "all nodes, and a weak gravity towards the center of the graph.\n",
    "\n"
   ]
  },
  {
   "cell_type": "code",
   "execution_count": 19,
   "metadata": {
    "lines_to_next_cell": 2
   },
   "outputs": [],
   "source": [
    "@jax.jit\n",
    "def force_directed(x, edges, a=1 / 20, b=1 / 10, c=50, spring=0.04):\n",
    "    size = x.shape[0]\n",
    "    nodes = np.arange(size)\n",
    "    # Colors for nodes\n",
    "    color = np.stack([to_color(c) for c in Color(\"red\").range_to(\"blue\", size)])\n",
    "\n",
    "    # Draw nodes and calculate node forces\n",
    "    @jax.vmap\n",
    "    def dots(p, i, color):\n",
    "        d = circle(0.1).translate(p[0], p[1]).fill_color(color)\n",
    "        return d, np.abs(x).sum()\n",
    "\n",
    "    out, gravity = dots(x, np.arange(size), color)\n",
    "\n",
    "    # Draw nodes and calculate edge forces\n",
    "    @jax.vmap\n",
    "    def connect(inp, out):\n",
    "        a, b = x[inp], x[out]\n",
    "        # `make_path`` is a helper around `seg`.\n",
    "        return make_path([(a[0], a[1]), (b[0] + eps, b[1] + eps)]), L2(a - b)\n",
    "\n",
    "    lines, tension = connect(nodes, edges)\n",
    "\n",
    "    # Style and compose graph.\n",
    "    out = out.with_envelope(empty()).line_width(2)\n",
    "    # `with_envelope` speeds up rendering, `rectangle` is a helper for paths\n",
    "    out = (\n",
    "        rectangle(5, 5).fill_color(\"white\")\n",
    "        + lines.with_envelope(empty()).line_width(1)\n",
    "        + out\n",
    "    )\n",
    "\n",
    "\n",
    "    # Apply forces\n",
    "    repulse = ((1 / (1e-3 + L2(x[:, None] - x))) * (1 - np.eye(size))).sum()\n",
    "\n",
    "    score = a * gravity.sum() + b * repulse + c * L2(tension - spring)\n",
    "\n",
    "    return score, out.layout(500)"
   ]
  },
  {
   "cell_type": "markdown",
   "metadata": {},
   "source": [
    "Graphs where there is a single hub and several surrounding nodes. \n"
   ]
  },
  {
   "cell_type": "code",
   "execution_count": 20,
   "metadata": {},
   "outputs": [
    {
     "data": {
      "text/html": [
       "\n",
       "  <div style=\"text-align:center;\"><div style=\"width:70%; margin:auto;\"><img src=\"animations/out.14.gif\" id='ff14'></div></div>\n",
       "<script>\n",
       "new Freezeframe({\n",
       "  selector: '#ff14'  \n",
       "});\n",
       "</script>\n",
       "\n",
       "\n",
       "\n",
       "  "
      ],
      "text/plain": [
       "<IPython.core.display.HTML object>"
      ]
     },
     "execution_count": 20,
     "metadata": {},
     "output_type": "execute_result"
    }
   ],
   "source": [
    "size = 50\n",
    "around = 5\n",
    "groups = size // around\n",
    "matrix = jax.random.uniform(jax.random.PRNGKey(0), (size, 2)) * 2 - 1\n",
    "edges = (np.arange(size) // around) * around\n",
    "opt(matrix, partial(force_directed, edges=edges), steps=500)"
   ]
  },
  {
   "cell_type": "markdown",
   "metadata": {},
   "source": [
    "Graphs where each is a ring.\n"
   ]
  },
  {
   "cell_type": "code",
   "execution_count": 21,
   "metadata": {},
   "outputs": [
    {
     "data": {
      "text/html": [
       "\n",
       "  <div style=\"text-align:center;\"><div style=\"width:70%; margin:auto;\"><img src=\"animations/out.15.gif\" id='ff15'></div></div>\n",
       "<script>\n",
       "new Freezeframe({\n",
       "  selector: '#ff15'  \n",
       "});\n",
       "</script>\n",
       "\n",
       "\n",
       "\n",
       "  "
      ],
      "text/plain": [
       "<IPython.core.display.HTML object>"
      ]
     },
     "execution_count": 21,
     "metadata": {},
     "output_type": "execute_result"
    }
   ],
   "source": [
    "size = 100\n",
    "matrix = jax.random.uniform(jax.random.PRNGKey(0), (size, 2)) * 2 - 1\n",
    "edges = (np.arange(size) + 1) % 10 + (np.arange(size) // 10) * 10\n",
    "opt(matrix, partial(force_directed, edges=edges), steps=500)"
   ]
  },
  {
   "cell_type": "markdown",
   "metadata": {},
   "source": [
    "## Section 3: Tracing"
   ]
  },
  {
   "cell_type": "markdown",
   "metadata": {},
   "source": [
    "\n",
    "Up until this point we have been entirely focused on \n",
    "the compute the vector diagram from its parameters.  \n",
    "\n",
    "$$\\begin{align*}\n",
    "  \\text{vector} &= \\text{program}(x) \\\\\n",
    "\\end{align*}$$\n",
    "\n",
    "This section considers the problem of \n",
    "extracting information from the vector diagram.\n",
    "\n",
    "$$\\begin{align*}\n",
    "  \\text{output} &= g(\\text{vector}) \\\\\n",
    "\\end{align*}$$\n",
    "\n",
    "Vector diagrams are complex, but we will only need \n",
    "once piece of information, which is known as a *trace*. \n",
    "We will use the trace to to query information about the \n",
    "the vector diagram..\n",
    "\n",
    "A trace is a function takes in a point and a direction (a *ray*) and returns\n",
    "a set of distances at which the ray hits the vector diagram. \n",
    "This is more clear in an animation.\n"
   ]
  },
  {
   "cell_type": "code",
   "execution_count": 22,
   "metadata": {},
   "outputs": [
    {
     "data": {
      "text/html": [
       "\n",
       "  <div style=\"text-align:center;\"><div style=\"width:70%; margin:auto;\"><img src=\"animations/out.16.gif\" id='ff16'></div></div>\n",
       "<script>\n",
       "new Freezeframe({\n",
       "  selector: '#ff16'  \n",
       "});\n",
       "</script>\n",
       "\n",
       "\n",
       "\n",
       "  "
      ],
      "text/plain": [
       "<IPython.core.display.HTML object>"
      ]
     },
     "execution_count": 22,
     "metadata": {},
     "output_type": "execute_result"
    }
   ],
   "source": [
    "def ray(t, shape, pt, v):\n",
    "    ray = seg(v).stroke().scale(t + 0.1).translate_by(pt) + circle_at(pt, 0.1)\n",
    "    trace = shape.get_trace()\n",
    "    # Length to hit shape.\n",
    "    distances, mask = trace(pt, v)\n",
    "    return shape + ray + circle_at(np.max(distances) * v + pt, 0.1).fill_color(\"red\")\n",
    "\n",
    "\n",
    "shape = circle_at(P2(0, 0), 1).fill_color(\"white\")\n",
    "animate(partial(ray, shape=shape, pt=P2(0.2, -0.1), v=V2(2, 1)))"
   ]
  },
  {
   "cell_type": "markdown",
   "metadata": {},
   "source": [
    "Recall that arcs are circle transformed by some $A$ (with an angle range). \n",
    "This implies that the trace function can applying the\n",
    "inverse of this transform $A^{-1}$ to the ray, and calcuting its distance\n",
    "to the unit circle."
   ]
  },
  {
   "cell_type": "markdown",
   "metadata": {},
   "source": [
    "To calculate this value we need to do some high-school algebra.\n",
    "The formula for this calculation is to find a common point on the ray and the unit circle.\n",
    "Let $r$ be the length of the trace."
   ]
  },
  {
   "cell_type": "markdown",
   "metadata": {},
   "source": [
    "$$ \\begin{align*}\n",
    "x = v_x r + p_x & y = v_y r + p_y \\\\\n",
    "x^2 + y^2 &= 1 \\\\\n",
    "\\Rightarrow& (v_x^2 + v_y^2) r^2 + 2(v_x p_x + v_y p_y) r  + (p_x^2 + p_y^2 - 1) = 0 \\\\\n",
    "\\Rightarrow& \\| v \\| r^2 + 2 p \\cdot v r  + (\\| p \\| - 1) = 0 \\\\\n",
    "\\end{align*}\n",
    "$$"
   ]
  },
  {
   "cell_type": "markdown",
   "metadata": {},
   "source": [
    "We then apply the quadratic formula to solve for roots."
   ]
  },
  {
   "cell_type": "markdown",
   "metadata": {},
   "source": [
    "\\begin{align*}\n",
    "\\frac{-b \\pm \\sqrt{b^2 - 4a c}}{2a}\n",
    "\\end{align*}"
   ]
  },
  {
   "cell_type": "markdown",
   "metadata": {},
   "source": [
    "The two values correspond to the two possible intersections.\n",
    "Negative roots correspond to missing the circle entirely.\n",
    "Once we find the value, we can also compute the angle\n",
    "of the intersection and check if it is within the\n",
    "arc."
   ]
  },
  {
   "cell_type": "code",
   "execution_count": 23,
   "metadata": {},
   "outputs": [
    {
     "data": {
      "text/html": [
       "\n",
       "  <div style=\"text-align:center;\"><div style=\"width:70%; margin:auto;\"><img src=\"animations/out.17.gif\" id='ff17'></div></div>\n",
       "<script>\n",
       "new Freezeframe({\n",
       "  selector: '#ff17'  \n",
       "});\n",
       "</script>\n",
       "\n",
       "\n",
       "\n",
       "  "
      ],
      "text/plain": [
       "<IPython.core.display.HTML object>"
      ]
     },
     "execution_count": 23,
     "metadata": {},
     "output_type": "execute_result"
    }
   ],
   "source": [
    "shape = arc_seg(V2(2, 0), 0.5).stroke().translate(-1, 0)\n",
    "animate(partial(ray, shape=shape, pt=P2(0.2, 0.3), v=V2(1, -1)))"
   ]
  },
  {
   "cell_type": "markdown",
   "metadata": {},
   "source": [
    "Note that there may be multiple intersections between the\n",
    "ray and the shape. This means trace needs to return a set of values.\n",
    "Working with sets is difficult in languages like Jax because\n",
    "array size needs to remain constant in repeated calls to a function.\n",
    "To handle this issue we return a fixed size array with a mask."
   ]
  },
  {
   "cell_type": "markdown",
   "metadata": {},
   "source": [
    "Here's an example that shows multiple intersections,\n",
    "as well as use of complex affine transformations.\n"
   ]
  },
  {
   "cell_type": "code",
   "execution_count": 24,
   "metadata": {},
   "outputs": [
    {
     "data": {
      "text/html": [
       "\n",
       "  <div style=\"text-align:center;\"><div style=\"width:70%; margin:auto;\"><img src=\"animations/out.18.gif\" id='ff18'></div></div>\n",
       "<script>\n",
       "new Freezeframe({\n",
       "  selector: '#ff18'  \n",
       "});\n",
       "</script>\n",
       "\n",
       "\n",
       "\n",
       "  "
      ],
      "text/plain": [
       "<IPython.core.display.HTML object>"
      ]
     },
     "execution_count": 24,
     "metadata": {},
     "output_type": "execute_result"
    }
   ],
   "source": [
    "\n",
    "def draw_line(p1, p2):\n",
    "    \"Helper function to draw a line between two points.\"\n",
    "    return Path.from_points([p2, p1 + eps]).stroke()\n",
    "\n",
    "def draw_trace(diagram, pt, v):\n",
    "    \"Draw a trace of a vector diagram.\"\n",
    "    trace = diagram.get_trace()\n",
    "    distances, mask = trace(pt, v)\n",
    "\n",
    "    # Draw the raw and trace.\n",
    "    line = seg(V2(0, -1 / 2)).stroke()\n",
    "    out = (diagram + draw_line(pt, pt+v) + circle_at(pt, 0.1).fill_color(\"white\")).line_width(2)\n",
    "    pos = (1 - mask[:, :])[..., None, None] * 100 + distances[..., None, None] * v + pt\n",
    "    out = out + draw_line(pos[:, 0], pos[:, 1]).line_color(\n",
    "        \"white\"\n",
    "    ).line_width(10)\n",
    "    for i in range(distances.shape[1]):\n",
    "        out = out + circle_at(pos[:, i], 0.1).fill_color(\"red\").line_width(1 * mask[:, i]).fill_opacity(mask[:, i])\n",
    "    return out, distances\n",
    "\n",
    "def satelite(d, t, px=0, py=0):\n",
    "    # Place the ray\n",
    "    d = d.center_xy()\n",
    "    affine = tx.rotation(t * 2 * np.pi)\n",
    "    pt, v = P2(0, 1.5), V2(0, -1.5)\n",
    "    pt, v = affine @ pt + V2(px, py), affine @ v\n",
    "\n",
    "    return draw_trace(d, pt, v)[0]\n",
    "\n",
    "def crescent():\n",
    "    part1 = arc_seg(unit_x, 0.5)\n",
    "    part2 = arc_seg(-unit_x, -0.2)\n",
    "    return part1, part2, (part1 + part2).close().stroke()\n",
    "\n",
    "animate(partial(satelite, crescent()[2]), lw=False)"
   ]
  },
  {
   "cell_type": "markdown",
   "metadata": {},
   "source": [
    "Internally, we are storing all the arcs that make up a\n",
    "path. each of these is reset to the unit circle where\n",
    "we then apply a ray-circle formula to find possible\n",
    "intersections."
   ]
  },
  {
   "cell_type": "markdown",
   "metadata": {},
   "source": [
    "Arc 1"
   ]
  },
  {
   "cell_type": "code",
   "execution_count": 25,
   "metadata": {},
   "outputs": [
    {
     "data": {
      "text/html": [
       "\n",
       "  <div style=\"text-align:center;\"><div style=\"width:70%; margin:auto;\"><img src=\"animations/out.19.gif\" id='ff19'></div></div>\n",
       "<script>\n",
       "new Freezeframe({\n",
       "  selector: '#ff19'  \n",
       "});\n",
       "</script>\n",
       "\n",
       "\n",
       "\n",
       "  "
      ],
      "text/plain": [
       "<IPython.core.display.HTML object>"
      ]
     },
     "execution_count": 25,
     "metadata": {},
     "output_type": "execute_result"
    }
   ],
   "source": [
    "animate(partial(satelite, crescent()[0].stroke()), lw=False)"
   ]
  },
  {
   "cell_type": "markdown",
   "metadata": {},
   "source": [
    "Arc 2.\n"
   ]
  },
  {
   "cell_type": "code",
   "execution_count": 26,
   "metadata": {
    "lines_to_next_cell": 2
   },
   "outputs": [
    {
     "data": {
      "text/html": [
       "\n",
       "  <div style=\"text-align:center;\"><div style=\"width:70%; margin:auto;\"><img src=\"animations/out.20.gif\" id='ff20'></div></div>\n",
       "<script>\n",
       "new Freezeframe({\n",
       "  selector: '#ff20'  \n",
       "});\n",
       "</script>\n",
       "\n",
       "\n",
       "\n",
       "  "
      ],
      "text/plain": [
       "<IPython.core.display.HTML object>"
      ]
     },
     "execution_count": 26,
     "metadata": {},
     "output_type": "execute_result"
    }
   ],
   "source": [
    "animate(partial(satelite, crescent()[1].stroke(), py=-0.2), lw=False)"
   ]
  },
  {
   "cell_type": "markdown",
   "metadata": {
    "lines_to_next_cell": 2
   },
   "source": [
    "Now here's the cool part. Because all of these traces are computed with\n",
    "using differentiable transformations (Section 1), and they are in Jax (Section 2), we can optimize through them. \n",
    "Here we set up a function that given any shape and ray will compute and draw the trace.\n"
   ]
  },
  {
   "cell_type": "markdown",
   "metadata": {},
   "source": [
    "Using this function, we can then optimize for trace properties.\n",
    "Here we search for the outer angle that leads to the smallest gap between trace distances.\n"
   ]
  },
  {
   "cell_type": "code",
   "execution_count": 27,
   "metadata": {},
   "outputs": [
    {
     "data": {
      "text/html": [
       "\n",
       "  <div style=\"text-align:center;\"><div style=\"width:70%; margin:auto;\"><img src=\"animations/out.21.gif\" id='ff21'></div></div>\n",
       "<script>\n",
       "new Freezeframe({\n",
       "  selector: '#ff21'  \n",
       "});\n",
       "</script>\n",
       "\n",
       "\n",
       "\n",
       "  "
      ],
      "text/plain": [
       "<IPython.core.display.HTML object>"
      ]
     },
     "execution_count": 27,
     "metadata": {},
     "output_type": "execute_result"
    }
   ],
   "source": [
    "def trace_width(d, t):\n",
    "    d = d.center_xy()\n",
    "    # Outer satelite\n",
    "    affine = tx.rotation(t)\n",
    "    pt, v = affine @ P2(0, 1.5), affine @ V2(0, -1.5)\n",
    "\n",
    "    # Trace the image\n",
    "    out, p = draw_trace(d, pt, v)\n",
    "    score = (p[:, 1] - p[:, 0])\n",
    "    return score.sum(), (grid + out.with_envelope(empty())).layout(500)\n",
    "\n",
    "opt(np.array(np.pi / 4.0), partial(trace_width, crescent()[2]), rate=0.1)"
   ]
  },
  {
   "cell_type": "markdown",
   "metadata": {},
   "source": [
    "## Section 4: Vector -> Image"
   ]
  },
  {
   "cell_type": "markdown",
   "metadata": {},
   "source": [
    "*Rasterization* is the process of converting from a vector diagram to\n",
    "a visible image, specifical a height $\\times$ width $\\times$ color array.\n",
    "In our formula it represents this step.\n",
    "\n",
    "$$\\begin{align*}\n",
    "  \\text{image} &= \\text{rasterize}(\\text{vector}) \\\\\n",
    "\\end{align*}$$"
   ]
  },
  {
   "cell_type": "markdown",
   "metadata": {},
   "source": [
    "Haven't we been doing this all along though? Well kind of.\n",
    "We have been cheating under the hood and using [Cairo](https://www.cairographics.org/) \n",
    "an open-source rasterizer. We would like to do it ourself in Jax."
   ]
  },
  {
   "cell_type": "markdown",
   "metadata": {},
   "source": [
    "To do rasterization, we will use a [*Scanline*](https://en.wikipedia.org/wiki/Scanline_rendering)\n",
    "algorithm. We are choosing this approach because it is relatively simple compared to other methods.\n",
    "We are motivated by the paper [Efficient GPU Path Rendering Using Scanline Rasterization](http://kunzhou.net/zjugaps/pathrendering/GPUpathrendering.pdf) which describes approaches \n",
    "for running this algorithm on GPUs. \n",
    "\n",
    "\n",
    "The algorithm works by walking down each row one pixel at a time,\n",
    "runs a trace, and then fills in the middles. \n",
    "We will use an *even-odd* rule for rasterizing where we consider\n",
    "all pixels after every other intersection to be inside.\n",
    "\n"
   ]
  },
  {
   "cell_type": "code",
   "execution_count": 28,
   "metadata": {
    "lines_to_next_cell": 2
   },
   "outputs": [
    {
     "data": {
      "text/html": [
       "\n",
       "  <div style=\"text-align:center;\"><div style=\"width:70%; margin:auto;\"><img src=\"animations/out.22.gif\" id='ff22'></div></div>\n",
       "<script>\n",
       "new Freezeframe({\n",
       "  selector: '#ff22'  \n",
       "});\n",
       "</script>\n",
       "\n",
       "\n",
       "\n",
       "  "
      ],
      "text/plain": [
       "<IPython.core.display.HTML object>"
      ]
     },
     "execution_count": 28,
     "metadata": {},
     "output_type": "execute_result"
    }
   ],
   "source": [
    "def scanline(t, shape):\n",
    "    return draw_trace(shape, P2(1, 1 + 10 * t), V2(1, 0))[0]\n",
    "\n",
    "\n",
    "shape = crescent()[2].scale(7).rotate(70).translate(6, 8).fill_color(\"orange\")\n",
    "animate(partial(scanline, shape=shape), grid=hgrid, steps=90)"
   ]
  },
  {
   "cell_type": "markdown",
   "metadata": {},
   "source": [
    "Here's the critical rasterization code.\n",
    "This function produces 1 row of the image given\n",
    "the trace for that row. Its job:\n",
    "\n",
    "* Determine inside pixels.\n",
    "* Determine boundary pixels\n",
    "* Be as fast as possible"
   ]
  },
  {
   "cell_type": "markdown",
   "metadata": {},
   "source": [
    "Here's how you would do this in simple python. We use the term split to mean the distance of the trace from the left-hand side of the picture. Mask is 1 if a split is real and 0 if it is not. "
   ]
  },
  {
   "cell_type": "code",
   "execution_count": 29,
   "metadata": {},
   "outputs": [
    {
     "data": {
      "text/plain": [
       "Array([0. , 0. , 0. , 0.6, 1. , 1. , 1. , 1. , 1. , 0.7, 0. , 0. , 0. ,\n",
       "       0. , 0. , 0. , 0. , 0. , 0. , 0. , 0. , 0. , 0. , 0. , 0. , 0. ,\n",
       "       0. , 0. , 0. , 0. , 0. , 0. , 0. , 0. , 0. , 0. , 0. , 0. , 0. ,\n",
       "       0. , 0. , 0. , 0. , 0. , 0. , 0. , 0. , 0. , 0. , 0. , 0. , 0. ,\n",
       "       0. , 0. , 0. , 0. , 0. , 0. , 0. , 0. , 0. , 0. , 0. , 0. , 0. ,\n",
       "       0. , 0. , 0. , 0. , 0. , 0. , 0. , 0. , 0. , 0. , 0. , 0. , 0. ,\n",
       "       0. , 0. , 0. , 0. , 0. , 0. , 0. , 0. , 0. , 0. , 0. , 0. , 0. ,\n",
       "       0. , 0. , 0. , 0. , 0. , 0. , 0. , 0. , 0. ], dtype=float64)"
      ]
     },
     "execution_count": 29,
     "metadata": {},
     "output_type": "execute_result"
    }
   ],
   "source": [
    "\n",
    "def render_line_python(splits, mask):\n",
    "    import math\n",
    "    splits_int = {}\n",
    "    even = True\n",
    "    \n",
    "    # Discretize each split to its pixel cell.\n",
    "    for mask, split in zip(mask, splits):\n",
    "       if mask:\n",
    "           splits_int[math.floor(split)] = split\n",
    "\n",
    "    # Create a blank row. \n",
    "    scene = [0] * 100   \n",
    "\n",
    "    for j in range(100):\n",
    "       if j in splits_int:\n",
    "           split = splits_int[j]\n",
    "            # Set boundaries based on where pixel fell inside.\n",
    "           if even:\n",
    "               scene[j] = 1 - (split - j)\n",
    "           else:\n",
    "               scene[j] = split - j\n",
    "\n",
    "            # Compute the even / odd position of each split\n",
    "           even = not even\n",
    "       else:\n",
    "           if not even:\n",
    "                # Fill in inside.\n",
    "               scene[j] = 1\n",
    "    return np.array(scene)\n",
    "\n",
    "render_line_python([3.4, 9.7, 16.9], [1, 1, 0])"
   ]
  },
  {
   "cell_type": "markdown",
   "metadata": {},
   "source": [
    "It's a relatively simple algorithm, but remember we can't use conditionals,\n",
    "mutation, or dictionaries in Jax. And we want it to run in parallel!\n"
   ]
  },
  {
   "cell_type": "markdown",
   "metadata": {},
   "source": [
    "We will instead modify this approach to do scanline rendering in parallel.\n",
    "The trick will be to first mark where we cross a boundary and then\n",
    "use a *cumulative sum* to combine them together. Here's the same algorithm in Jax.\n"
   ]
  },
  {
   "cell_type": "code",
   "execution_count": 30,
   "metadata": {},
   "outputs": [
    {
     "data": {
      "text/plain": [
       "Array([[0. , 0. , 0. , 0.6, 1. , 1. , 1. , 1. , 1. , 0.7, 0. , 0. , 0. ,\n",
       "        0. , 0. , 0. , 0. , 0. , 0. , 0. , 0. , 0. , 0. , 0. , 0. , 0. ,\n",
       "        0. , 0. , 0. , 0. , 0. , 0. , 0. , 0. , 0. , 0. , 0. , 0. , 0. ,\n",
       "        0. , 0. , 0. , 0. , 0. , 0. , 0. , 0. , 0. , 0. , 0. , 0. , 0. ,\n",
       "        0. , 0. , 0. , 0. , 0. , 0. , 0. , 0. , 0. , 0. , 0. , 0. , 0. ,\n",
       "        0. , 0. , 0. , 0. , 0. , 0. , 0. , 0. , 0. , 0. , 0. , 0. , 0. ,\n",
       "        0. , 0. , 0. , 0. , 0. , 0. , 0. , 0. , 0. , 0. , 0. , 0. , 0. ,\n",
       "        0. , 0. , 0. , 0. , 0. , 0. , 0. , 0. , 0. ]], dtype=float64)"
      ]
     },
     "execution_count": 30,
     "metadata": {},
     "output_type": "execute_result"
    }
   ],
   "source": [
    "SIZE = 100\n",
    "blank = np.ones((SIZE, SIZE, 3))\n",
    "\n",
    "@jax.jit\n",
    "@jax.vmap\n",
    "def render_line(splits, mask):\n",
    "    # Discretize each split to its pixel cell.\n",
    "    split_int = np.floor(splits).astype(int)\n",
    "\n",
    "    # `np.where`` will be our if statement replacement.\n",
    "    # Set `ind` to these values, unless it is masked.\n",
    "    ind = np.where(mask, split_int, 1000)\n",
    "\n",
    "    # Create a blank row.\n",
    "    zero = np.zeros(SIZE)\n",
    "\n",
    "    # Compute the even / odd position of each split\n",
    "    # (Assume sorted with masked last)\n",
    "    loc = np.arange(splits.shape[-1]) % 2\n",
    "\n",
    "    # Set even->odd pixels as 1 and odd->even as 0.\n",
    "    inout = np.where(loc, -1, 1)\n",
    "    scene = zero.at[ind].add(inout)\n",
    "\n",
    "    # Run a cumulative sum to fill in inside.\n",
    "    scene = np.cumsum(scene, axis=-1)\n",
    "\n",
    "    # Set boundaries based on where pixel fell inside.\n",
    "    scene = scene.at[ind].set(np.where(loc, 0, 1) - inout * (splits - split_int))\n",
    "    \n",
    "    # If we didn't end on even, something went wrong.\n",
    "    return np.where(mask.sum() % 2 == 0, scene, zero)\n",
    "\n",
    "\n",
    "render_line(np.array([[3.4, 9.7, 16.9]]), np.array([[1, 1, 0]]))"
   ]
  },
  {
   "cell_type": "code",
   "execution_count": 31,
   "metadata": {},
   "outputs": [
    {
     "data": {
      "image/png": "[encoded data removed]",
      "text/plain": [
       "<Figure size 640x480 with 1 Axes>"
      ]
     },
     "metadata": {},
     "output_type": "display_data"
    }
   ],
   "source": [
    "shape = crescent()[2].scale(70).rotate(70).translate(60, 80).fill_color(\"orange\")\n",
    "plt.imshow(render_line(*shape.get_trace()(P2(0, np.arange(100)), V2(1, 0))))\n",
    "None"
   ]
  },
  {
   "cell_type": "markdown",
   "metadata": {},
   "source": [
    "Nice! 10 lines of code and we have a rasterizer. It works\n",
    "pretty nice off the bat. The main problem though is that\n",
    "it doesn't yet look as good as Cairo's version. The\n",
    "textbook issue is that we have *aliasing*. If you zoom\n",
    "into the edge of our moon you will see jagged little edges."
   ]
  },
  {
   "cell_type": "markdown",
   "metadata": {},
   "source": [
    "We'll apply convolution smoothing on each row independently. The idea is to set the value of each pixel based on the surrounding values from the vector diagram. This is a 1D simplification but it makes\n",
    "the math much easier. The formula is, "
   ]
  },
  {
   "cell_type": "markdown",
   "metadata": {},
   "source": [
    "$$I(x) = \\int k(u) f(x- u; \\theta) du$$"
   ]
  },
  {
   "cell_type": "markdown",
   "metadata": {},
   "source": [
    "Where $f(x-u)$ is the value of the line our vector image, $k(x)$ is a *kernel*, and $I(x)$ is our\n",
    "output image. The *kernel* is just a function that weights the contribution of neighbors based on how far\n",
    "away they are."
   ]
  },
  {
   "cell_type": "markdown",
   "metadata": {},
   "source": [
    "We can approximate this integral with Monte-Carlo sampling."
   ]
  },
  {
   "cell_type": "markdown",
   "metadata": {},
   "source": [
    "$$ I(x) \\approx \\frac{1}{N} \\sum_i k(u_i) f(x - u_i)  $$"
   ]
  },
  {
   "cell_type": "markdown",
   "metadata": {},
   "source": [
    "Where $u_i$ are $N$ chosen points around $x$."
   ]
  },
  {
   "cell_type": "markdown",
   "metadata": {},
   "source": [
    "We have two choices here: the kernel function and the monte-carlo scheme.\n",
    "\n",
    "* We'll use a triangle kernel where the weight decays linearly from the center.\n",
    "* To avoid randomness, we'll always separate\n",
    "the points in a 1D Line.\n",
    "\n",
    "From an ML perspective, you can think of this a just applying a 1D convolution to each row of the image with a predefined kernel.\n"
   ]
  },
  {
   "cell_type": "code",
   "execution_count": 32,
   "metadata": {},
   "outputs": [
    {
     "data": {
      "text/plain": [
       "[<matplotlib.lines.Line2D at 0x79264c142660>]"
      ]
     },
     "execution_count": 32,
     "metadata": {},
     "output_type": "execute_result"
    },
    {
     "data": {
      "image/png": "[encoded data removed]",
      "text/plain": [
       "<Figure size 640x480 with 1 Axes>"
      ]
     },
     "metadata": {},
     "output_type": "display_data"
    }
   ],
   "source": [
    "# Kernel width\n",
    "kern = 11\n",
    "samples = np.arange(kern) - (kern // 2)\n",
    "\n",
    "\n",
    "def kernel(offset):\n",
    "    off_samples = samples - offset\n",
    "    kernel = kern - np.abs(off_samples)\n",
    "    return np.maximum(0, kernel / (kern - np.abs(samples)).sum())\n",
    "\n",
    "# Allow us to offset the grid. \n",
    "plt.plot(samples, kernel(0), \"o-\")\n",
    "plt.plot(samples - 0.2, kernel(0.2), \"o-\")\n",
    "plt.plot(samples + 0.5, kernel(0.5), \"o-\")"
   ]
  },
  {
   "cell_type": "markdown",
   "metadata": {},
   "source": [
    "Compare the new image to the original. Note the little \"hairs\" that come off on both sides. These will become important in the next section. "
   ]
  },
  {
   "cell_type": "code",
   "execution_count": 33,
   "metadata": {},
   "outputs": [
    {
     "data": {
      "image/png": "[encoded data removed]",
      "text/plain": [
       "<Figure size 640x480 with 1 Axes>"
      ]
     },
     "metadata": {},
     "output_type": "display_data"
    }
   ],
   "source": [
    "@jax.vmap\n",
    "def convolve(line):\n",
    "    k = kernel(0)\n",
    "    return jax.vmap(lambda s: line[s + samples] @ k)(np.arange(line.shape[0]))\n",
    "\n",
    "\n",
    "plt.imshow(convolve(render_line(*shape.get_trace()(P2(0, np.arange(100)), V2(1, 0)))))\n",
    "None"
   ]
  },
  {
   "cell_type": "markdown",
   "metadata": {},
   "source": [
    "Now let's put everything together. There are three steps.\n",
    "\n",
    "1. Scan the image.\n",
    "2. Anti-Alias with a 1D convolution.\n",
    "3. Compose the image.\n",
    "\n",
    "We will do it twice once for rows and once for columns."
   ]
  },
  {
   "cell_type": "code",
   "execution_count": 34,
   "metadata": {},
   "outputs": [
    {
     "data": {
      "image/png": "[encoded data removed]",
      "text/plain": [
       "<Figure size 640x480 with 1 Axes>"
      ]
     },
     "metadata": {},
     "output_type": "display_data"
    }
   ],
   "source": [
    "directions = list(map(np.stack, [(V2(0, 1), V2(1, 0)), (V2(1, 0), V2(0, 1))]))\n",
    "\n",
    "@jax.jit\n",
    "def render_shape(img, s):\n",
    "    S = np.arange(SIZE)\n",
    "    trace = s.get_trace()\n",
    "\n",
    "    def render(img, d):\n",
    "        pt, v = d\n",
    "        # 1. Scan\n",
    "        raster = render_line(*trace(tx.to_point(pt * S[:, None, None]), v))\n",
    "        # 2. Apply a 1d conv\n",
    "        raster = convolve(raster)\n",
    "        # 3. Compose\n",
    "        img = (1 - raster[..., None]) * img + raster[..., None] * s.style.fill_color_\n",
    "        return np.swapaxes(img, 0, 1), raster\n",
    "\n",
    "    return jax.lax.scan(render, img, directions)\n",
    "\n",
    "\n",
    "plt.imshow(render_shape(blank, shape)[0])\n",
    "None"
   ]
  },
  {
   "cell_type": "markdown",
   "metadata": {},
   "source": [
    "We apply the same process for all the parts of our diagram.\n",
    "\n"
   ]
  },
  {
   "cell_type": "code",
   "execution_count": 35,
   "metadata": {},
   "outputs": [
    {
     "data": {
      "image/png": "[encoded data removed]",
      "text/plain": [
       "<Figure size 640x480 with 1 Axes>"
      ]
     },
     "metadata": {},
     "output_type": "display_data"
    }
   ],
   "source": [
    "@jax.vmap\n",
    "def make_shape(i):\n",
    "    r, g = to_color(\"red\"), to_color(\"green\")\n",
    "    return shape.translate(-30 + i * 40, -10 + i * 30).fill_color(r * i + g * (1 - i))\n",
    "\n",
    "def render_shapes(shapes):\n",
    "    return jax.lax.scan(render_shape, blank, shapes)[0]\n",
    "\n",
    "plt.imshow(render_shapes(make_shape(np.arange(5) / 5)))\n",
    "None"
   ]
  },
  {
   "cell_type": "markdown",
   "metadata": {},
   "source": [
    "And then just a check that we can render for all transforms.\n",
    "\n"
   ]
  },
  {
   "cell_type": "code",
   "execution_count": 36,
   "metadata": {
    "lines_to_next_cell": 2
   },
   "outputs": [
    {
     "data": {
      "text/html": [
       "\n",
       "  <div style=\"text-align:center;\"><div style=\"width:70%; margin:auto;\"><img src=\"animations/out.23.gif\" id='ff23'></div></div>\n",
       "<script>\n",
       "new Freezeframe({\n",
       "  selector: '#ff23'  \n",
       "});\n",
       "</script>\n",
       "\n",
       "\n",
       "\n",
       "  "
      ],
      "text/plain": [
       "<IPython.core.display.HTML object>"
      ]
     },
     "execution_count": 36,
     "metadata": {},
     "output_type": "execute_result"
    },
    {
     "data": {
      "text/plain": [
       "<Figure size 640x480 with 0 Axes>"
      ]
     },
     "metadata": {},
     "output_type": "display_data"
    }
   ],
   "source": [
    "@jax.jit\n",
    "def im(t):\n",
    "    s = shape.center_xy().rotate_by(t).translate(50, 50)\n",
    "    return render_shape(blank, s)[0]\n",
    "\n",
    "\n",
    "os.system(\"rm /tmp/test*.png 2> /dev/null\")\n",
    "for t in range(T):\n",
    "    plt.imshow(im(t / T))\n",
    "    plt.savefig(f\"/tmp/test.{t:02d}.png\")\n",
    "    plt.clf()\n",
    "\n",
    "animate_out(sorted(glob.glob(\"/tmp/test.*.png\")))"
   ]
  },
  {
   "cell_type": "markdown",
   "metadata": {},
   "source": [
    "This rasterizer is fully end-to-end. This now allows use to \n",
    "Now we can do our first optimization.We need to specify a goal target image, and then render our\n",
    "own guess. Here we start with a blue image and target an orange one.\n",
    "We then optimize through the process (using derivatives) to find the color.\n"
   ]
  },
  {
   "cell_type": "code",
   "execution_count": 37,
   "metadata": {},
   "outputs": [
    {
     "data": {
      "text/html": [
       "\n",
       "  <div style=\"text-align:center;\"><div style=\"width:70%; margin:auto;\"><img src=\"animations/out.24.gif\" id='ff24'></div></div>\n",
       "<script>\n",
       "new Freezeframe({\n",
       "  selector: '#ff24'  \n",
       "});\n",
       "</script>\n",
       "\n",
       "\n",
       "\n",
       "  "
      ],
      "text/plain": [
       "<IPython.core.display.HTML object>"
      ]
     },
     "execution_count": 37,
     "metadata": {},
     "output_type": "execute_result"
    }
   ],
   "source": [
    "goal = render_shape(blank, shape)[0]\n",
    "\n",
    "def make_shape(color):\n",
    "    return shape.fill_color(color)\n",
    "\n",
    "def loss(x):\n",
    "    y = render_shape(blank, x)[0]\n",
    "    return np.pow(y - goal, 2).sum(), ((hgrid + x) | (hgrid + shape)).layout(500)\n",
    "\n",
    "opt(to_color(\"blue\"), lambda x: loss(make_shape(x)), rate=0.1)"
   ]
  },
  {
   "cell_type": "markdown",
   "metadata": {},
   "source": [
    "## Section 5: Differentiable Rasterization"
   ]
  },
  {
   "cell_type": "markdown",
   "metadata": {},
   "source": [
    "In this section we complete the full pipeline, and differentiate through both steps. \n",
    "\n",
    "$$\\begin{align*}\n",
    "  \\text{vector} &= \\text{program}(x) \\\\\n",
    "  \\text{image} &= \\text{rasterizer}(\\text{vector}) \\\\\n",
    "  {\\cal L}(\\text{image}, \\text{target}) &= \\| \\text{image} - \\text{target} \\| \\\\\n",
    "\\end{align*}$$"
   ]
  },
  {
   "cell_type": "markdown",
   "metadata": {},
   "source": [
    "In fact, the last example shows we can do this already. We make a vector diagram, rasterize it \n",
    "and then just optimize. \n",
    "\n",
    "Unfortunately though if the images didn't line up exactly things go wrong. The problem\n",
    "is that a key step in our rasterization has a derivative of zero.\n",
    "Take a look at the `render_line` code and see if you can spot it."
   ]
  },
  {
   "cell_type": "code",
   "execution_count": 38,
   "metadata": {},
   "outputs": [
    {
     "data": {
      "text/html": [
       "\n",
       "  <div style=\"text-align:center;\"><div style=\"width:70%; margin:auto;\"><img src=\"animations/out.25.gif\" id='ff25'></div></div>\n",
       "<script>\n",
       "new Freezeframe({\n",
       "  selector: '#ff25'  \n",
       "});\n",
       "</script>\n",
       "\n",
       "\n",
       "\n",
       "  "
      ],
      "text/plain": [
       "<IPython.core.display.HTML object>"
      ]
     },
     "execution_count": 38,
     "metadata": {},
     "output_type": "execute_result"
    }
   ],
   "source": [
    "new_shape = shape.translate(15, 35)\n",
    "goal = render_shape(blank, new_shape)[0]\n",
    "\n",
    "\n",
    "def make_shape(color):\n",
    "    return shape.fill_color(color)\n",
    "\n",
    "\n",
    "def loss(x):\n",
    "    y = render_shape(blank, x)[0]\n",
    "    return np.pow(y - goal, 2).sum(), ((hgrid + x) | (hgrid + new_shape)).layout(500)\n",
    "\n",
    "\n",
    "opt(to_color(\"orange\"), lambda x: loss(make_shape(x)), rate=0.1)"
   ]
  },
  {
   "cell_type": "markdown",
   "metadata": {},
   "source": [
    "The problem is that we are never sending a derivative back through\n",
    "the `split` variable to the traces, i.e. $\\frac{d {\\cal L}}{d \\ \\text{trace}}=0$\n",
    "That is because the only way split is used is as a discrete index into the\n",
    "array."
   ]
  },
  {
   "cell_type": "markdown",
   "metadata": {},
   "source": [
    "To do step, we are going to have to find a workaround.  \n",
    "\n",
    "[Differentiable Vector Graphics Rasterization for Editing and Learning](https://cseweb.ucsd.edu/~tzli/diffvg/) describes an elegant method for producing derivatives. We'll use a simplified version here which demonstrates the core idea. \n",
    "\n",
    "The trick is to take advantage of the anti-aliasing step. Recall the formula, "
   ]
  },
  {
   "cell_type": "markdown",
   "metadata": {},
   "source": [
    "$$I(x) = \\int k(u) f(x- u) du$$"
   ]
  },
  {
   "cell_type": "markdown",
   "metadata": {},
   "source": [
    "We would like to take the derivative of this function with\n",
    "respect to the trace."
   ]
  },
  {
   "cell_type": "markdown",
   "metadata": {},
   "source": [
    "$$\\frac{d}{d \\ \\text{trace}} \\int k(u) f(x- u) du$$"
   ]
  },
  {
   "cell_type": "markdown",
   "metadata": {},
   "source": [
    "But where is the trace in this function? It is used to produce the splits, i.e. the *inside* and *outside* parts where $f$ changes.\n",
    "We call each of these independent regions $A_i$."
   ]
  },
  {
   "cell_type": "markdown",
   "metadata": {},
   "source": [
    "$$\\sum_i \\frac{d}{d \\ \\text{trace}} \\int_{A_i} f(x-u) k(u) du$$"
   ]
  },
  {
   "cell_type": "markdown",
   "metadata": {},
   "source": [
    "These intersection points does impact where the *boundary* of the\n",
    "integral is. To optimize positioning we need a signal from this boundary position.\n",
    "\n",
    "The methodology for differentiating through integral boundaries is\n",
    "an identity called [Leibniz's integral rule](https://en.wikipedia.org/wiki/Leibniz_integral_rule)."
   ]
  },
  {
   "cell_type": "markdown",
   "metadata": {},
   "source": [
    "$$\\frac{d}{db} \\int_{0}^{b} z(t, b) dt = z(b, b) + \\int_{0}^{b} \\frac{d z(t, b)}{d b} dt$$"
   ]
  },
  {
   "cell_type": "markdown",
   "metadata": {},
   "source": [
    "The second part is just within the boundaries. We have taken care of the\n",
    "already just naturally through our convolution above. This is why the color-match optimization works already. \n",
    "\n",
    "The first part though we need to handle ourselves. For our simplified problem this takes a nice form since $z(b, b) = f(x - \\text{split})k(\\text{split})$. "
   ]
  },
  {
   "cell_type": "markdown",
   "metadata": {},
   "source": [
    "$$f(x-\\text{split}) k(\\text{split}) \\approx (f(x-\\text{split} + \\epsilon) - f(x-\\text{split} - \\epsilon))k(\\text{split})$$"
   ]
  },
  {
   "cell_type": "markdown",
   "metadata": {},
   "source": [
    "Where the approximation here is necessary because by definition $f(x - \\text{split})$ falls directly on a boundary point.\n",
    "Intuitively the math is just telling us to move boundaries closer/farther to\n",
    "targets proportional to their kernel value."
   ]
  },
  {
   "cell_type": "markdown",
   "metadata": {},
   "source": [
    "Since to implement backprop we need, $$\\frac{d L}{d I} \\frac{d I}{d \\text{trace}}$$ \n",
    "\n",
    "The term $\\frac{d L}{d I}$ is the size of the image, so the implementation looks like applying the reverse of the triangle kernel from above to each around of the split points to this array. \n",
    "\n"
   ]
  },
  {
   "cell_type": "code",
   "execution_count": 39,
   "metadata": {},
   "outputs": [],
   "source": [
    "@jax.custom_vjp\n",
    "def boundary(scene, splits, mask):\n",
    "    \"Do nothing on the forward pass.\"\n",
    "    return scene\n",
    "\n",
    "\n",
    "def f_fwd(scene, splits, mask):\n",
    "    \"Blank forward pass.\"\n",
    "    return scene, (scene, splits, mask)\n",
    "\n",
    "\n",
    "def f_bwd(res, g):\n",
    "    \"Backwards pass applies Leibniz.\"\n",
    "    f, splits, mask = res\n",
    "    split_int = np.floor(splits).astype(int)\n",
    "\n",
    "    def grad_p(s, s_off):\n",
    "        \"Compute the kernel values of neighbors around this point\"\n",
    "        off = s_off - s\n",
    "        # Chain rule part, g is dL / dI. Apply kernel around split s. \n",
    "        v = g[s + samples]\n",
    "        return (v * (f[s + 1] - f[s - 1])).sum(-1) @ kernel(off)\n",
    "\n",
    "    # For each split compute dL/dI\n",
    "    r = jax.vmap(grad_p, in_axes=(-1, -1))(split_int, splits) * mask\n",
    "    r = np.where(mask.sum() % 2 == 0, r, np.zeros(splits.shape))\n",
    "    \n",
    "    return g, -r, None\n",
    "\n",
    "boundary.defvjp(f_fwd, f_bwd)"
   ]
  },
  {
   "cell_type": "markdown",
   "metadata": {},
   "source": [
    "We then can apply it on top of our rendering function.\n",
    "The idea is that this should not change the image in\n",
    "any way, but it allows us to correct the derivative.\n"
   ]
  },
  {
   "cell_type": "code",
   "execution_count": 40,
   "metadata": {},
   "outputs": [],
   "source": [
    "@jax.jit\n",
    "def boundary_shape(img, s):\n",
    "    S = np.arange(SIZE)\n",
    "    trace = s.get_trace()\n",
    "\n",
    "    def bound(img, d):\n",
    "        pt, v = d\n",
    "        s, m = jax.vmap(lambda i: trace(tx.to_point(pt * i), v))(S)\n",
    "        bound = lambda s, m: jax.vmap(lambda s, m, im: boundary(im, s, m))(s, m, img)\n",
    "        img = bound(s, m)\n",
    "        return np.swapaxes(img, 0, 1), None\n",
    "\n",
    "    return jax.lax.scan(bound, img, directions)[0], None\n",
    "\n",
    "\n",
    "def boundaries(img, shapes):\n",
    "    return jax.lax.scan(boundary_shape, img, shapes)[0]"
   ]
  },
  {
   "cell_type": "markdown",
   "metadata": {},
   "source": [
    "And that's it! We have a differentiable rasterizer. A bit of work, but only really one custom derivative and the rest \n",
    "we got from the framework for free. \n",
    "\n",
    "### Example 1: Occlusion\n",
    "\n",
    "This first one shows we can deal with occulusion and multiple shapes for free. "
   ]
  },
  {
   "cell_type": "code",
   "execution_count": 49,
   "metadata": {},
   "outputs": [
    {
     "data": {
      "text/html": [
       "\n",
       "  <div style=\"text-align:center;\"><div style=\"width:70%; margin:auto;\"><img src=\"animations/out.32.gif\" id='ff32'></div></div>\n",
       "<script>\n",
       "new Freezeframe({\n",
       "  selector: '#ff32'  \n",
       "});\n",
       "</script>\n",
       "\n",
       "\n",
       "\n",
       "  "
      ],
      "text/plain": [
       "<IPython.core.display.HTML object>"
      ]
     },
     "execution_count": 49,
     "metadata": {},
     "output_type": "execute_result"
    }
   ],
   "source": [
    "@jax.vmap\n",
    "def make_shape1(p):\n",
    "    loc, color = p\n",
    "    return (\n",
    "        shape.center_xy().rotate_by(1 / 4).translate(loc[0], loc[1]).fill_color(color)\n",
    "    )\n",
    "\n",
    "\n",
    "# Target vector / raster images\n",
    "goal_shapes = make_shape1(\n",
    "    (np.array([[50, 40], [40, 50]]), np.stack([to_color(\"blue\"), to_color(\"orange\")]))\n",
    ")\n",
    "\n",
    "# Target vector / raster images\n",
    "goal_shapes = make_shape1(\n",
    "    (np.array([[50, 40], [40, 50]]), np.stack([to_color(\"blue\"), to_color(\"orange\")]))\n",
    ")\n",
    "goal = render_shapes(goal_shapes)\n",
    "\n",
    "# Initial parameters $x$\n",
    "start_param = (\n",
    "    np.array([[60, 30], [60.0, 60.0]]),\n",
    "    np.stack([to_color(\"green\"), to_color(\"green\")]),\n",
    ")\n",
    "\n",
    "\n",
    "# L2 Loss and draw\n",
    "def loss(goal, goal_shapes, x):\n",
    "    y = render_shapes(x)\n",
    "    y = boundaries(y, x)\n",
    "    return np.pow(y - goal, 2).sum(), (\n",
    "        bgrid\n",
    "        + concat(x).with_envelope(empty())\n",
    "        + concat(goal_shapes).with_envelope(empty()).fill_opacity(0.2)\n",
    "    ).layout(500)\n",
    "\n",
    "\n",
    "opt(\n",
    "    start_param,\n",
    "    lambda x: loss(goal, goal_shapes, make_shape1(x)),\n",
    "    steps=500,\n",
    "    save_every=5,\n",
    "    rate=0.1,\n",
    ")"
   ]
  },
  {
   "cell_type": "markdown",
   "metadata": {},
   "source": [
    "### Example 2: Paths\n",
    "\n",
    "This one parameterizes the structure of the arcs that make up the path. "
   ]
  },
  {
   "cell_type": "code",
   "execution_count": 42,
   "metadata": {
    "lines_to_next_cell": 2
   },
   "outputs": [
    {
     "data": {
      "text/html": [
       "\n",
       "  <div style=\"text-align:center;\"><div style=\"width:70%; margin:auto;\"><img src=\"animations/out.27.gif\" id='ff27'></div></div>\n",
       "<script>\n",
       "new Freezeframe({\n",
       "  selector: '#ff27'  \n",
       "});\n",
       "</script>\n",
       "\n",
       "\n",
       "\n",
       "  "
      ],
      "text/plain": [
       "<IPython.core.display.HTML object>"
      ]
     },
     "execution_count": 42,
     "metadata": {},
     "output_type": "execute_result"
    }
   ],
   "source": [
    "@jax.vmap\n",
    "def make_shape2(params):\n",
    "    s, l, r = params\n",
    "    s = np.where(np.abs(s) < 1e-3, 1e-3, s)\n",
    "    part1 = arc_seg(unit_x, s[0])\n",
    "    part2 = arc_seg(unit_y, s[1])\n",
    "    part3 = arc_seg(-unit_x, s[2])\n",
    "    part4 = arc_seg(-unit_y, s[3])\n",
    "    d = (part1 + part2 + part3 + part4).close().stroke()\n",
    "    shape = d.scale(12 + r[0]).rotate(70)\n",
    "    return shape.center_xy().rotate_by(0).translate(50, 30).fill_color(\"blue\")\n",
    "\n",
    "\n",
    "goal_params = (\n",
    "    np.array([[0.5, 0.2, 0.7, -0.9]]),\n",
    "    np.array([[50.0, 30]]),\n",
    "    np.array([[5.0]]),\n",
    ")\n",
    "goal_shapes = make_shape2(goal_params)\n",
    "goal = render_shapes(goal_shapes)\n",
    "start_param = (np.array([[-0.5, 0.1, 2, 1]]), np.array([[50.0, 30]]), np.array([[0.0]]))\n",
    "\n",
    "opt(\n",
    "    start_param,\n",
    "    lambda x: loss(goal, goal_shapes, make_shape2(x)),\n",
    "    steps=1000,\n",
    "    save_every=5,\n",
    "    rate=0.01,\n",
    ")"
   ]
  },
  {
   "cell_type": "markdown",
   "metadata": {},
   "source": [
    "### Example 3:  Multiple Overlapping Shapes\n",
    "\n",
    "In this example we create a bunch or red and blue circles with vmap and then try to fill them in."
   ]
  },
  {
   "cell_type": "code",
   "execution_count": 43,
   "metadata": {
    "lines_to_next_cell": 0
   },
   "outputs": [
    {
     "data": {
      "text/html": [
       "\n",
       "  <div style=\"text-align:center;\"><div style=\"width:70%; margin:auto;\"><img src=\"animations/out.28.gif\" id='ff28'></div></div>\n",
       "<script>\n",
       "new Freezeframe({\n",
       "  selector: '#ff28'  \n",
       "});\n",
       "</script>\n",
       "\n",
       "\n",
       "\n",
       "  "
      ],
      "text/plain": [
       "<IPython.core.display.HTML object>"
      ]
     },
     "execution_count": 43,
     "metadata": {},
     "output_type": "execute_result"
    }
   ],
   "source": [
    "\n",
    "\n",
    "\n",
    "@jax.vmap\n",
    "def make_shape3(params, i):\n",
    "    s, l = params\n",
    "    s = np.minimum(np.maximum(s, 5.0), 15)\n",
    "    red, blue = to_color(\"red\"), to_color(\"blue\")\n",
    "    return (\n",
    "        circle_at(tx.X.origin, s)\n",
    "        .translate(l[0], l[1])\n",
    "        .fill_color(np.where(i % 2, red, blue))\n",
    "    )\n",
    "\n",
    "\n",
    "\n",
    "make_shape3 = partial(make_shape3, i=np.arange(10.0))\n",
    "\n",
    "goal_param = (\n",
    "    np.array([10 + random.random() for i in range(10)]),\n",
    "    np.array([20 + random.random() * 50 for i in range(20)]).reshape(10, 2),\n",
    ")\n",
    "goal_shapes = make_shape3(goal_param)\n",
    "\n",
    "make_shape3 = partial(make_shape3, i=np.arange(20))\n",
    "\n",
    "goal = render_shapes(goal_shapes)\n",
    "start_param = (\n",
    "    np.array([10 + random.random() for i in range(20)]),\n",
    "    np.array([20 + 50 * random.random() for i in range(40)], np.float64).reshape(20, 2),\n",
    ")\n",
    "\n",
    "\n",
    "opt(\n",
    "    start_param,\n",
    "    lambda x: loss(goal, goal_shapes, make_shape3(x)),\n",
    "    steps=1000,\n",
    "    save_every=5,\n",
    "    rate=0.1,\n",
    ")"
   ]
  },
  {
   "cell_type": "markdown",
   "metadata": {},
   "source": [
    "### Example 4:  Shapes with Gaps\n",
    "\n",
    "In this exmaple we render a star with a gap in the middle to test  the inside/outside aspect of the renderer."
   ]
  },
  {
   "cell_type": "code",
   "execution_count": 44,
   "metadata": {},
   "outputs": [
    {
     "data": {
      "text/html": [
       "\n",
       "  <div style=\"text-align:center;\"><div style=\"width:70%; margin:auto;\"><img src=\"animations/out.29.gif\" id='ff29'></div></div>\n",
       "<script>\n",
       "new Freezeframe({\n",
       "  selector: '#ff29'  \n",
       "});\n",
       "</script>\n",
       "\n",
       "\n",
       "\n",
       "  "
      ],
      "text/plain": [
       "<IPython.core.display.HTML object>"
      ]
     },
     "execution_count": 44,
     "metadata": {},
     "output_type": "execute_result"
    }
   ],
   "source": [
    " @jax.vmap\n",
    " def star(x):\n",
    "     sides = 5\n",
    "     edge = Trail.hrule(1)\n",
    "     return Trail.concat(\n",
    "        edge.rotate_by((2 * i) / sides) for i in range(sides)\n",
    "     ).close().stroke().center_xy().scale(x[0]).rotate(x[1]).translate(x[2], x[3] ).fill_color(\"orange\")\n",
    "random.seed(1)\n",
    "\n",
    "start_param = np.array([[65.,random.random(),  40 + i * 20, 40 + 20 * j] for i in range(1) for j in range(1)])\n",
    "g = np.array([[85., 50, 50 + i * 20, 50 + 20 * j] for i in range(1) for j in range(1)])\n",
    "goal_shapes = star(g)\n",
    "goal = render_shapes(star(g))\n",
    " \n",
    "opt(\n",
    "    start_param,\n",
    "    lambda x: loss(goal, goal_shapes, star(x)),\n",
    "    steps=500,\n",
    "    save_every=2,\n",
    "    rate=0.35,\n",
    "    verbose=False,\n",
    ")"
   ]
  },
  {
   "cell_type": "markdown",
   "metadata": {},
   "source": [
    "### Example 5:  Multiple Geometric Angles\n",
    "\n",
    "In this exmaple we render a set of gears that need to fit together."
   ]
  },
  {
   "cell_type": "code",
   "execution_count": 53,
   "metadata": {
    "lines_to_next_cell": 2
   },
   "outputs": [
    {
     "data": {
      "text/html": [
       "\n",
       "  <div style=\"text-align:center;\"><div style=\"width:70%; margin:auto;\"><img src=\"animations/out.36.gif\" id='ff36'></div></div>\n",
       "<script>\n",
       "new Freezeframe({\n",
       "  selector: '#ff36'  \n",
       "});\n",
       "</script>\n",
       "\n",
       "\n",
       "\n",
       "  "
      ],
      "text/plain": [
       "<IPython.core.display.HTML object>"
      ]
     },
     "execution_count": 53,
     "metadata": {},
     "output_type": "execute_result"
    }
   ],
   "source": [
    "@jax.vmap\n",
    "def gear(x):\n",
    "    sides = 5\n",
    "    edge = Trail.hrule(1)\n",
    "    return (\n",
    "        Trail.concat(edge.rotate_by((i) / sides) for i in range(sides))\n",
    "        .close()\n",
    "        .stroke()\n",
    "        .center_xy()\n",
    "        .scale(15)\n",
    "        .rotate_by(x[1])\n",
    "        .translate(25 + x[2], 25 + x[3])\n",
    "        .fill_color(\"orange\")\n",
    "    )\n",
    "\n",
    "start_param = np.array(\n",
    "    [\n",
    "        [15.0, random.random(), 5 + i * 20, 10 + 20 * j]\n",
    "        for i in range(3)\n",
    "        for j in range(3)\n",
    "    ]\n",
    ")\n",
    "g = np.array(\n",
    "    [\n",
    "        [15.0, random.random(), 1 + i * 20, 1 + 20 * j]\n",
    "        for i in range(3)\n",
    "        for j in range(3)\n",
    "    ]\n",
    ")\n",
    "goal_shapes = gear(g)\n",
    "goal = render_shapes(gear(g))\n",
    "\n",
    "opt(\n",
    "    start_param,\n",
    "    lambda x: loss(goal, goal_shapes, gear(x)),\n",
    "    steps=500,\n",
    "    save_every=2,\n",
    "    rate=0.05\n",
    ")"
   ]
  },
  {
   "cell_type": "markdown",
   "metadata": {},
   "source": [
    "### Example 6:  Real Image\n"
   ]
  },
  {
   "cell_type": "markdown",
   "metadata": {},
   "source": [
    "All this work brings us to our final goal, rendering an\n",
    "actual image. Here we take an image from the web and convert\n",
    "it to an array. Then we start with a bunch of ellipses (scale-transformed circles)\n",
    "and see how well they can do to approximate it.\n",
    "Results are pretty neat!\n"
   ]
  },
  {
   "cell_type": "markdown",
   "metadata": {},
   "source": [
    "Grab an image from the web and covert to RGB."
   ]
  },
  {
   "cell_type": "code",
   "execution_count": 46,
   "metadata": {
    "lines_to_next_cell": 2,
    "tags": [
     "remove_cell"
    ]
   },
   "outputs": [],
   "source": [
    "png = Image.open(\"smiley3.webp\").convert(\"RGBA\")\n",
    "background = Image.new(\"RGBA\", png.size, (255, 255, 255))\n",
    "pic = Image.alpha_composite(background, png)\n",
    "pic = pic.convert(\"RGB\")\n",
    "pic = pic.resize((100, 100))\n",
    "pix = np.array(pic.getdata()).reshape(pic.size[0], pic.size[1], 3) / 255\n",
    "# Set background to white for simplicity.\n",
    "pix = np.where((pix > 0.8).all(-1)[..., None], 1, pix)\n",
    "pix = np.where((pix < 0.2).all(-1)[..., None], 0, pix)"
   ]
  },
  {
   "cell_type": "markdown",
   "metadata": {},
   "source": [
    "![](smiley3.webp)\n"
   ]
  },
  {
   "cell_type": "code",
   "execution_count": 47,
   "metadata": {},
   "outputs": [
    {
     "data": {
      "text/html": [
       "\n",
       "  <div style=\"text-align:center;\"><div style=\"width:70%; margin:auto;\"><img src=\"animations/out.31.gif\" id='ff31'></div></div>\n",
       "<script>\n",
       "new Freezeframe({\n",
       "  selector: '#ff31'  \n",
       "});\n",
       "</script>\n",
       "\n",
       "\n",
       "\n",
       "  "
      ],
      "text/plain": [
       "<IPython.core.display.HTML object>"
      ]
     },
     "execution_count": 47,
     "metadata": {},
     "output_type": "execute_result"
    }
   ],
   "source": [
    "goal = pix\n",
    "\n",
    "# Draw a bunch of circles.\n",
    "# Parameterize by scale, translation, and roation.\n",
    "@jax.vmap\n",
    "def make_smiley(p):\n",
    "    s, l, r, c, rot = p\n",
    "    s = np.where(np.abs(s) < 1e-3, (np.abs(s) / s) * 1e-3, s)\n",
    "    d = circle_at(P2(0, 0), 1).center_xy()\n",
    "    r = np.where(np.abs(r) < 1e-3, 0.1, (np.abs(r) / r) * r)\n",
    "    return (\n",
    "        d.rotate(rot)\n",
    "        .scale(1)\n",
    "        .scale_x((r[0]))\n",
    "        .scale_y((r[1]))\n",
    "        .translate(l[0], l[1])\n",
    "        .fill_color(jax.nn.sigmoid(c))\n",
    "    )\n",
    "\n",
    "\n",
    "random.seed(1)\n",
    "\n",
    "# Draw 20 circles with random starting\n",
    "# values.\n",
    "n = 20\n",
    "start_param = (\n",
    "    np.zeros((n, 4)) + 0.1,\n",
    "    np.array(\n",
    "        [[20 + 60 * random.random(), 20 + 60 * random.random()] for i in range(n)]\n",
    "    ),\n",
    "    np.ones((n, 2)) + 2 * np.arange(n + 1, 1, -1)[:, None],\n",
    "    np.ones((n, 3)),\n",
    "    np.zeros((n, 1)),\n",
    ")\n",
    "\n",
    "\n",
    "# Reduce color precision of the goal slightly.\n",
    "def reduce(y):\n",
    "    return np.floor(y * 40) / 40\n",
    "\n",
    "\n",
    "def loss(goal, x):\n",
    "    y = render_shapes(x)\n",
    "    y = boundaries(y, x)\n",
    "    return np.pow(y - reduce(goal), 2).sum(), None\n",
    "\n",
    "\n",
    "@jax.jit\n",
    "def show(x):\n",
    "    return (bgrid + concat(make_smiley(x)).with_envelope(empty()).line_width(0)).layout(\n",
    "        500\n",
    "    )\n",
    "\n",
    "\n",
    "# Optimize!\n",
    "opt(\n",
    "    start_param,\n",
    "    lambda x: loss(goal, make_smiley(x)),\n",
    "    show=show,\n",
    "    steps=1000,\n",
    "    save_every=10,\n",
    "    rate=0.1,\n",
    ")"
   ]
  },
  {
   "cell_type": "markdown",
   "metadata": {},
   "source": [
    "## Conclusion\n",
    "\n",
    "So the goal of this post was to understand what differentiable programming \n",
    "really look like for challening problems. Of course graphics is a particularly \n",
    "nice area for this kind of silliness. \n",
    "Since everything has a nice and well-defined mathematical form,\n",
    "with enough work we can push through the necessary gradients.\n",
    "We only really had to use one major trick to make derivative \n",
    "work, other wise it was just converting if's and for's to \n",
    "np.where and vmap.\n",
    "\n",
    "Still I think this sort of method is still really underexplored \n",
    "in other areas. We have really nice tools for writing very complex\n",
    "programs in a fully vectorized way, and yet we aren't really doing it \n",
    "yet as much as feels possible. I hope I can convince you that \n",
    "while a little scary, this kind of programming is pretty powerful\n",
    "and realistically accessible for a lot of different domains. \n",
    "\n",
    "-Sasha"
   ]
  }
 ],
 "metadata": {
  "jupytext": {
   "formats": "ipynb,md,py:percent"
  },
  "kernelspec": {
   "display_name": "Python 3 (ipykernel)",
   "language": "python",
   "name": "python3"
  },
  "language_info": {
   "codemirror_mode": {
    "name": "ipython",
    "version": 3
   },
   "file_extension": ".py",
   "mimetype": "text/x-python",
   "name": "python",
   "nbconvert_exporter": "python",
   "pygments_lexer": "ipython3",
   "version": "3.12.3"
  }
 },
 "nbformat": 4,
 "nbformat_minor": 4
}
